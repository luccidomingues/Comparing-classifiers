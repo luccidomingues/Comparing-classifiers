{
  "nbformat": 4,
  "nbformat_minor": 0,
  "metadata": {
    "kernelspec": {
      "display_name": "Python 3",
      "language": "python",
      "name": "python3"
    },
    "language_info": {
      "codemirror_mode": {
        "name": "ipython",
        "version": 3
      },
      "file_extension": ".py",
      "mimetype": "text/x-python",
      "name": "python",
      "nbconvert_exporter": "python",
      "pygments_lexer": "ipython3",
      "version": "3.7.6"
    },
    "colab": {
      "name": "Car prices_comparing-classifiers.ipynb",
      "provenance": [],
      "collapsed_sections": [],
      "include_colab_link": true
    }
  },
  "cells": [
    {
      "cell_type": "markdown",
      "metadata": {
        "id": "view-in-github",
        "colab_type": "text"
      },
      "source": [
        "<a href=\"https://colab.research.google.com/github/luccidomingues/Comparing-classifiers/blob/main/Car_prices_comparing_classifiers.ipynb\" target=\"_parent\"><img src=\"https://colab.research.google.com/assets/colab-badge.svg\" alt=\"Open In Colab\"/></a>"
      ]
    },
    {
      "cell_type": "markdown",
      "metadata": {
        "id": "C-q6cv_CxZsX"
      },
      "source": [
        "# Comparing Classifiers for Building Classification Models\n",
        "\n",
        "In this Jupyter notebook, we will be comparing the performance of different classifiers for building classification models."
      ]
    },
    {
      "cell_type": "markdown",
      "metadata": {
        "id": "mtJkthFRxZsy"
      },
      "source": [
        "## 1. Import a dataset"
      ]
    },
    {
      "cell_type": "markdown",
      "metadata": {
        "id": "uE5-Vk9vxZs0"
      },
      "source": [
        "### 1.1. Import library"
      ]
    },
    {
      "cell_type": "code",
      "metadata": {
        "id": "UDS82sZbxZs2",
        "colab": {
          "base_uri": "https://localhost:8080/",
          "height": 419
        },
        "outputId": "2609d768-9853-40a4-f3d8-e2646fcd2d76"
      },
      "source": [
        "import pandas as pd\r\n",
        "\r\n",
        "projects = 'car-prices.csv'\r\n",
        "dataset = pd.read_csv(projects)\r\n",
        "dataset"
      ],
      "execution_count": null,
      "outputs": [
        {
          "output_type": "execute_result",
          "data": {
            "text/html": [
              "<div>\n",
              "<style scoped>\n",
              "    .dataframe tbody tr th:only-of-type {\n",
              "        vertical-align: middle;\n",
              "    }\n",
              "\n",
              "    .dataframe tbody tr th {\n",
              "        vertical-align: top;\n",
              "    }\n",
              "\n",
              "    .dataframe thead th {\n",
              "        text-align: right;\n",
              "    }\n",
              "</style>\n",
              "<table border=\"1\" class=\"dataframe\">\n",
              "  <thead>\n",
              "    <tr style=\"text-align: right;\">\n",
              "      <th></th>\n",
              "      <th>Unnamed: 0</th>\n",
              "      <th>mileage_per_year</th>\n",
              "      <th>model_year</th>\n",
              "      <th>price</th>\n",
              "      <th>sold</th>\n",
              "    </tr>\n",
              "  </thead>\n",
              "  <tbody>\n",
              "    <tr>\n",
              "      <th>0</th>\n",
              "      <td>0</td>\n",
              "      <td>21801</td>\n",
              "      <td>2000</td>\n",
              "      <td>30941.02</td>\n",
              "      <td>yes</td>\n",
              "    </tr>\n",
              "    <tr>\n",
              "      <th>1</th>\n",
              "      <td>1</td>\n",
              "      <td>7843</td>\n",
              "      <td>1998</td>\n",
              "      <td>40557.96</td>\n",
              "      <td>yes</td>\n",
              "    </tr>\n",
              "    <tr>\n",
              "      <th>2</th>\n",
              "      <td>2</td>\n",
              "      <td>7109</td>\n",
              "      <td>2006</td>\n",
              "      <td>89627.50</td>\n",
              "      <td>no</td>\n",
              "    </tr>\n",
              "    <tr>\n",
              "      <th>3</th>\n",
              "      <td>3</td>\n",
              "      <td>26823</td>\n",
              "      <td>2015</td>\n",
              "      <td>95276.14</td>\n",
              "      <td>no</td>\n",
              "    </tr>\n",
              "    <tr>\n",
              "      <th>4</th>\n",
              "      <td>4</td>\n",
              "      <td>7935</td>\n",
              "      <td>2014</td>\n",
              "      <td>117384.68</td>\n",
              "      <td>yes</td>\n",
              "    </tr>\n",
              "    <tr>\n",
              "      <th>...</th>\n",
              "      <td>...</td>\n",
              "      <td>...</td>\n",
              "      <td>...</td>\n",
              "      <td>...</td>\n",
              "      <td>...</td>\n",
              "    </tr>\n",
              "    <tr>\n",
              "      <th>9995</th>\n",
              "      <td>9995</td>\n",
              "      <td>15572</td>\n",
              "      <td>2006</td>\n",
              "      <td>97112.86</td>\n",
              "      <td>no</td>\n",
              "    </tr>\n",
              "    <tr>\n",
              "      <th>9996</th>\n",
              "      <td>9996</td>\n",
              "      <td>13246</td>\n",
              "      <td>2002</td>\n",
              "      <td>107424.63</td>\n",
              "      <td>yes</td>\n",
              "    </tr>\n",
              "    <tr>\n",
              "      <th>9997</th>\n",
              "      <td>9997</td>\n",
              "      <td>13018</td>\n",
              "      <td>2014</td>\n",
              "      <td>93856.99</td>\n",
              "      <td>no</td>\n",
              "    </tr>\n",
              "    <tr>\n",
              "      <th>9998</th>\n",
              "      <td>9998</td>\n",
              "      <td>10464</td>\n",
              "      <td>2011</td>\n",
              "      <td>51250.57</td>\n",
              "      <td>yes</td>\n",
              "    </tr>\n",
              "    <tr>\n",
              "      <th>9999</th>\n",
              "      <td>9999</td>\n",
              "      <td>12362</td>\n",
              "      <td>1999</td>\n",
              "      <td>87945.73</td>\n",
              "      <td>no</td>\n",
              "    </tr>\n",
              "  </tbody>\n",
              "</table>\n",
              "<p>10000 rows × 5 columns</p>\n",
              "</div>"
            ],
            "text/plain": [
              "      Unnamed: 0  mileage_per_year  model_year      price sold\n",
              "0              0             21801        2000   30941.02  yes\n",
              "1              1              7843        1998   40557.96  yes\n",
              "2              2              7109        2006   89627.50   no\n",
              "3              3             26823        2015   95276.14   no\n",
              "4              4              7935        2014  117384.68  yes\n",
              "...          ...               ...         ...        ...  ...\n",
              "9995        9995             15572        2006   97112.86   no\n",
              "9996        9996             13246        2002  107424.63  yes\n",
              "9997        9997             13018        2014   93856.99   no\n",
              "9998        9998             10464        2011   51250.57  yes\n",
              "9999        9999             12362        1999   87945.73   no\n",
              "\n",
              "[10000 rows x 5 columns]"
            ]
          },
          "metadata": {
            "tags": []
          },
          "execution_count": 1
        }
      ]
    },
    {
      "cell_type": "code",
      "metadata": {
        "colab": {
          "base_uri": "https://localhost:8080/",
          "height": 204
        },
        "id": "G_l9bEDx2_5V",
        "outputId": "d4b4c3a2-914b-4057-932e-c3c3535e7cab"
      },
      "source": [
        "to_change = {\r\n",
        "    'no' : 0,\r\n",
        "    'yes' : 1\r\n",
        "}\r\n",
        "dataset.sold = dataset.sold.map(to_change)\r\n",
        "dataset.head()"
      ],
      "execution_count": null,
      "outputs": [
        {
          "output_type": "execute_result",
          "data": {
            "text/html": [
              "<div>\n",
              "<style scoped>\n",
              "    .dataframe tbody tr th:only-of-type {\n",
              "        vertical-align: middle;\n",
              "    }\n",
              "\n",
              "    .dataframe tbody tr th {\n",
              "        vertical-align: top;\n",
              "    }\n",
              "\n",
              "    .dataframe thead th {\n",
              "        text-align: right;\n",
              "    }\n",
              "</style>\n",
              "<table border=\"1\" class=\"dataframe\">\n",
              "  <thead>\n",
              "    <tr style=\"text-align: right;\">\n",
              "      <th></th>\n",
              "      <th>Unnamed: 0</th>\n",
              "      <th>mileage_per_year</th>\n",
              "      <th>model_year</th>\n",
              "      <th>price</th>\n",
              "      <th>sold</th>\n",
              "    </tr>\n",
              "  </thead>\n",
              "  <tbody>\n",
              "    <tr>\n",
              "      <th>0</th>\n",
              "      <td>0</td>\n",
              "      <td>21801</td>\n",
              "      <td>2000</td>\n",
              "      <td>30941.02</td>\n",
              "      <td>1</td>\n",
              "    </tr>\n",
              "    <tr>\n",
              "      <th>1</th>\n",
              "      <td>1</td>\n",
              "      <td>7843</td>\n",
              "      <td>1998</td>\n",
              "      <td>40557.96</td>\n",
              "      <td>1</td>\n",
              "    </tr>\n",
              "    <tr>\n",
              "      <th>2</th>\n",
              "      <td>2</td>\n",
              "      <td>7109</td>\n",
              "      <td>2006</td>\n",
              "      <td>89627.50</td>\n",
              "      <td>0</td>\n",
              "    </tr>\n",
              "    <tr>\n",
              "      <th>3</th>\n",
              "      <td>3</td>\n",
              "      <td>26823</td>\n",
              "      <td>2015</td>\n",
              "      <td>95276.14</td>\n",
              "      <td>0</td>\n",
              "    </tr>\n",
              "    <tr>\n",
              "      <th>4</th>\n",
              "      <td>4</td>\n",
              "      <td>7935</td>\n",
              "      <td>2014</td>\n",
              "      <td>117384.68</td>\n",
              "      <td>1</td>\n",
              "    </tr>\n",
              "  </tbody>\n",
              "</table>\n",
              "</div>"
            ],
            "text/plain": [
              "   Unnamed: 0  mileage_per_year  model_year      price  sold\n",
              "0           0             21801        2000   30941.02     1\n",
              "1           1              7843        1998   40557.96     1\n",
              "2           2              7109        2006   89627.50     0\n",
              "3           3             26823        2015   95276.14     0\n",
              "4           4              7935        2014  117384.68     1"
            ]
          },
          "metadata": {
            "tags": []
          },
          "execution_count": 2
        }
      ]
    },
    {
      "cell_type": "code",
      "metadata": {
        "colab": {
          "base_uri": "https://localhost:8080/",
          "height": 204
        },
        "id": "zbwwkIB5cR14",
        "outputId": "be989a9d-0910-4c52-dca1-72b7bfae769e"
      },
      "source": [
        "dataset = dataset.drop(columns = [\"Unnamed: 0\"], axis=1)\r\n",
        "dataset.head()"
      ],
      "execution_count": null,
      "outputs": [
        {
          "output_type": "execute_result",
          "data": {
            "text/html": [
              "<div>\n",
              "<style scoped>\n",
              "    .dataframe tbody tr th:only-of-type {\n",
              "        vertical-align: middle;\n",
              "    }\n",
              "\n",
              "    .dataframe tbody tr th {\n",
              "        vertical-align: top;\n",
              "    }\n",
              "\n",
              "    .dataframe thead th {\n",
              "        text-align: right;\n",
              "    }\n",
              "</style>\n",
              "<table border=\"1\" class=\"dataframe\">\n",
              "  <thead>\n",
              "    <tr style=\"text-align: right;\">\n",
              "      <th></th>\n",
              "      <th>mileage_per_year</th>\n",
              "      <th>model_year</th>\n",
              "      <th>price</th>\n",
              "      <th>sold</th>\n",
              "    </tr>\n",
              "  </thead>\n",
              "  <tbody>\n",
              "    <tr>\n",
              "      <th>0</th>\n",
              "      <td>21801</td>\n",
              "      <td>2000</td>\n",
              "      <td>30941.02</td>\n",
              "      <td>1</td>\n",
              "    </tr>\n",
              "    <tr>\n",
              "      <th>1</th>\n",
              "      <td>7843</td>\n",
              "      <td>1998</td>\n",
              "      <td>40557.96</td>\n",
              "      <td>1</td>\n",
              "    </tr>\n",
              "    <tr>\n",
              "      <th>2</th>\n",
              "      <td>7109</td>\n",
              "      <td>2006</td>\n",
              "      <td>89627.50</td>\n",
              "      <td>0</td>\n",
              "    </tr>\n",
              "    <tr>\n",
              "      <th>3</th>\n",
              "      <td>26823</td>\n",
              "      <td>2015</td>\n",
              "      <td>95276.14</td>\n",
              "      <td>0</td>\n",
              "    </tr>\n",
              "    <tr>\n",
              "      <th>4</th>\n",
              "      <td>7935</td>\n",
              "      <td>2014</td>\n",
              "      <td>117384.68</td>\n",
              "      <td>1</td>\n",
              "    </tr>\n",
              "  </tbody>\n",
              "</table>\n",
              "</div>"
            ],
            "text/plain": [
              "   mileage_per_year  model_year      price  sold\n",
              "0             21801        2000   30941.02     1\n",
              "1              7843        1998   40557.96     1\n",
              "2              7109        2006   89627.50     0\n",
              "3             26823        2015   95276.14     0\n",
              "4              7935        2014  117384.68     1"
            ]
          },
          "metadata": {
            "tags": []
          },
          "execution_count": 3
        }
      ]
    },
    {
      "cell_type": "code",
      "metadata": {
        "colab": {
          "base_uri": "https://localhost:8080/",
          "height": 419
        },
        "id": "TYYY0y46cgFs",
        "outputId": "6f8b9db6-58d9-4681-ed75-3d8985dd3bfc"
      },
      "source": [
        "X = dataset.drop(['sold'], axis=1)\r\n",
        "Y = dataset.iloc[:,-1]\r\n",
        "X"
      ],
      "execution_count": null,
      "outputs": [
        {
          "output_type": "execute_result",
          "data": {
            "text/html": [
              "<div>\n",
              "<style scoped>\n",
              "    .dataframe tbody tr th:only-of-type {\n",
              "        vertical-align: middle;\n",
              "    }\n",
              "\n",
              "    .dataframe tbody tr th {\n",
              "        vertical-align: top;\n",
              "    }\n",
              "\n",
              "    .dataframe thead th {\n",
              "        text-align: right;\n",
              "    }\n",
              "</style>\n",
              "<table border=\"1\" class=\"dataframe\">\n",
              "  <thead>\n",
              "    <tr style=\"text-align: right;\">\n",
              "      <th></th>\n",
              "      <th>mileage_per_year</th>\n",
              "      <th>model_year</th>\n",
              "      <th>price</th>\n",
              "    </tr>\n",
              "  </thead>\n",
              "  <tbody>\n",
              "    <tr>\n",
              "      <th>0</th>\n",
              "      <td>21801</td>\n",
              "      <td>2000</td>\n",
              "      <td>30941.02</td>\n",
              "    </tr>\n",
              "    <tr>\n",
              "      <th>1</th>\n",
              "      <td>7843</td>\n",
              "      <td>1998</td>\n",
              "      <td>40557.96</td>\n",
              "    </tr>\n",
              "    <tr>\n",
              "      <th>2</th>\n",
              "      <td>7109</td>\n",
              "      <td>2006</td>\n",
              "      <td>89627.50</td>\n",
              "    </tr>\n",
              "    <tr>\n",
              "      <th>3</th>\n",
              "      <td>26823</td>\n",
              "      <td>2015</td>\n",
              "      <td>95276.14</td>\n",
              "    </tr>\n",
              "    <tr>\n",
              "      <th>4</th>\n",
              "      <td>7935</td>\n",
              "      <td>2014</td>\n",
              "      <td>117384.68</td>\n",
              "    </tr>\n",
              "    <tr>\n",
              "      <th>...</th>\n",
              "      <td>...</td>\n",
              "      <td>...</td>\n",
              "      <td>...</td>\n",
              "    </tr>\n",
              "    <tr>\n",
              "      <th>9995</th>\n",
              "      <td>15572</td>\n",
              "      <td>2006</td>\n",
              "      <td>97112.86</td>\n",
              "    </tr>\n",
              "    <tr>\n",
              "      <th>9996</th>\n",
              "      <td>13246</td>\n",
              "      <td>2002</td>\n",
              "      <td>107424.63</td>\n",
              "    </tr>\n",
              "    <tr>\n",
              "      <th>9997</th>\n",
              "      <td>13018</td>\n",
              "      <td>2014</td>\n",
              "      <td>93856.99</td>\n",
              "    </tr>\n",
              "    <tr>\n",
              "      <th>9998</th>\n",
              "      <td>10464</td>\n",
              "      <td>2011</td>\n",
              "      <td>51250.57</td>\n",
              "    </tr>\n",
              "    <tr>\n",
              "      <th>9999</th>\n",
              "      <td>12362</td>\n",
              "      <td>1999</td>\n",
              "      <td>87945.73</td>\n",
              "    </tr>\n",
              "  </tbody>\n",
              "</table>\n",
              "<p>10000 rows × 3 columns</p>\n",
              "</div>"
            ],
            "text/plain": [
              "      mileage_per_year  model_year      price\n",
              "0                21801        2000   30941.02\n",
              "1                 7843        1998   40557.96\n",
              "2                 7109        2006   89627.50\n",
              "3                26823        2015   95276.14\n",
              "4                 7935        2014  117384.68\n",
              "...                ...         ...        ...\n",
              "9995             15572        2006   97112.86\n",
              "9996             13246        2002  107424.63\n",
              "9997             13018        2014   93856.99\n",
              "9998             10464        2011   51250.57\n",
              "9999             12362        1999   87945.73\n",
              "\n",
              "[10000 rows x 3 columns]"
            ]
          },
          "metadata": {
            "tags": []
          },
          "execution_count": 6
        }
      ]
    },
    {
      "cell_type": "code",
      "metadata": {
        "id": "S0iD1-R02j-D"
      },
      "source": [
        "# from sklearn.datasets import make_classification"
      ],
      "execution_count": null,
      "outputs": []
    },
    {
      "cell_type": "markdown",
      "metadata": {
        "id": "xkEHJhcwxZs7"
      },
      "source": [
        "### 1.2. Let's examine the data dimension"
      ]
    },
    {
      "cell_type": "code",
      "metadata": {
        "id": "cn3fSiSrxZs9",
        "colab": {
          "base_uri": "https://localhost:8080/"
        },
        "outputId": "34fb2843-d70c-4d10-8242-a2662f4df5de"
      },
      "source": [
        "X.shape"
      ],
      "execution_count": null,
      "outputs": [
        {
          "output_type": "execute_result",
          "data": {
            "text/plain": [
              "(10000, 3)"
            ]
          },
          "metadata": {
            "tags": []
          },
          "execution_count": 7
        }
      ]
    },
    {
      "cell_type": "code",
      "metadata": {
        "id": "ZHRc_rp4xZtB",
        "colab": {
          "base_uri": "https://localhost:8080/"
        },
        "outputId": "8960e986-4079-4f45-cb4a-a44f75becf36"
      },
      "source": [
        "Y.shape"
      ],
      "execution_count": null,
      "outputs": [
        {
          "output_type": "execute_result",
          "data": {
            "text/plain": [
              "(10000,)"
            ]
          },
          "metadata": {
            "tags": []
          },
          "execution_count": 8
        }
      ]
    },
    {
      "cell_type": "markdown",
      "metadata": {
        "id": "4gOajc2uxZtC"
      },
      "source": [
        "## 2. Data split (80/20 ratio)"
      ]
    },
    {
      "cell_type": "markdown",
      "metadata": {
        "id": "D6ylnp-lxZtE"
      },
      "source": [
        "### 2.1. Import library"
      ]
    },
    {
      "cell_type": "code",
      "metadata": {
        "id": "PtETzA9uxZtF"
      },
      "source": [
        "from sklearn.model_selection import train_test_split"
      ],
      "execution_count": null,
      "outputs": []
    },
    {
      "cell_type": "markdown",
      "metadata": {
        "id": "gsYzCa1KxZtG"
      },
      "source": [
        "### 2.2. Data split"
      ]
    },
    {
      "cell_type": "code",
      "metadata": {
        "id": "fLquuIhexZtH"
      },
      "source": [
        "X_train, X_test, Y_train, Y_test = train_test_split(X, Y, test_size=0.2)\r\n",
        "\r\n"
      ],
      "execution_count": null,
      "outputs": []
    },
    {
      "cell_type": "markdown",
      "metadata": {
        "id": "6k_UG0JtxZtI"
      },
      "source": [
        "### 2.3. Let's examine the data dimension"
      ]
    },
    {
      "cell_type": "code",
      "metadata": {
        "id": "kqL_Mv8HxZtJ",
        "colab": {
          "base_uri": "https://localhost:8080/"
        },
        "outputId": "a841d9b0-a65a-4557-9c6f-b54a10c791cf"
      },
      "source": [
        "X_train.shape, Y_train.shape"
      ],
      "execution_count": null,
      "outputs": [
        {
          "output_type": "execute_result",
          "data": {
            "text/plain": [
              "((8000, 3), (8000,))"
            ]
          },
          "metadata": {
            "tags": []
          },
          "execution_count": 11
        }
      ]
    },
    {
      "cell_type": "code",
      "metadata": {
        "id": "9IGhJJT6xZtM",
        "colab": {
          "base_uri": "https://localhost:8080/"
        },
        "outputId": "f85edbce-38e5-40fb-bbaf-a7c93ff839c0"
      },
      "source": [
        "X_test.shape, Y_test.shape"
      ],
      "execution_count": null,
      "outputs": [
        {
          "output_type": "execute_result",
          "data": {
            "text/plain": [
              "((2000, 3), (2000,))"
            ]
          },
          "metadata": {
            "tags": []
          },
          "execution_count": 12
        }
      ]
    },
    {
      "cell_type": "markdown",
      "metadata": {
        "id": "rgWTmsRSxZtO"
      },
      "source": [
        "## 3. Build Classification Models\n",
        "\n",
        "Modified from: https://scikit-learn.org/stable/auto_examples/classification/plot_classifier_comparison.html"
      ]
    },
    {
      "cell_type": "markdown",
      "metadata": {
        "id": "9ujxaH5WxZtP"
      },
      "source": [
        "### 3.1. Import modules"
      ]
    },
    {
      "cell_type": "code",
      "metadata": {
        "id": "HjsSjE8nxZtQ"
      },
      "source": [
        "import pandas as pd\n",
        "\n",
        "from sklearn.neural_network import MLPClassifier\n",
        "from sklearn.neighbors import KNeighborsClassifier\n",
        "from sklearn.svm import SVC\n",
        "from sklearn.gaussian_process import GaussianProcessClassifier\n",
        "from sklearn.ensemble import GradientBoostingClassifier\n",
        "from sklearn.gaussian_process.kernels import RBF\n",
        "from sklearn.tree import DecisionTreeClassifier\n",
        "from sklearn.ensemble import ExtraTreesClassifier\n",
        "from sklearn.ensemble import RandomForestClassifier, AdaBoostClassifier\n",
        "from sklearn.naive_bayes import GaussianNB\n",
        "from sklearn.discriminant_analysis import QuadraticDiscriminantAnalysis\n",
        "from sklearn.linear_model import SGDClassifier"
      ],
      "execution_count": null,
      "outputs": []
    },
    {
      "cell_type": "markdown",
      "metadata": {
        "id": "5WnHP8RIxZtR"
      },
      "source": [
        "### 3.2. Defining learning classifiers"
      ]
    },
    {
      "cell_type": "code",
      "metadata": {
        "id": "e7ZlHs3pxZtS"
      },
      "source": [
        "names = [\"Nearest_Neighbors\", \"Linear_SVM\", \"Polynomial_SVM\", \"RBF_SVM\", \"Gaussian_Process\",\n",
        "         \"Gradient_Boosting\", \"Decision_Tree\", \"Extra_Trees\", \"Random_Forest\", \"Neural_Net\", \"AdaBoost\",\n",
        "         \"Naive_Bayes\", \"QDA\", \"SGD\"]\n",
        "\n",
        "classifiers = [\n",
        "    KNeighborsClassifier(3),\n",
        "    SVC(kernel=\"linear\", C=0.025),\n",
        "    SVC(kernel=\"poly\", degree=3, C=0.025),\n",
        "    SVC(kernel=\"rbf\", C=1, gamma=2),\n",
        "    GaussianProcessClassifier(1.0 * RBF(1.0)),\n",
        "    GradientBoostingClassifier(n_estimators=100, learning_rate=1.0),\n",
        "    DecisionTreeClassifier(max_depth=5),\n",
        "    ExtraTreesClassifier(n_estimators=10, min_samples_split=2),\n",
        "    RandomForestClassifier(max_depth=5, n_estimators=100),\n",
        "    MLPClassifier(alpha=1, max_iter=1000),\n",
        "    AdaBoostClassifier(n_estimators=100),\n",
        "    GaussianNB(),\n",
        "    QuadraticDiscriminantAnalysis(),\n",
        "    SGDClassifier(loss=\"hinge\", penalty=\"l2\")]"
      ],
      "execution_count": null,
      "outputs": []
    },
    {
      "cell_type": "markdown",
      "metadata": {
        "id": "SOAy_DPjxZtV"
      },
      "source": [
        "### 3.3. Build Model, Apply Model on Test Data & Record Accuracy Scores"
      ]
    },
    {
      "cell_type": "code",
      "metadata": {
        "id": "E5bsKe8exZtW",
        "colab": {
          "base_uri": "https://localhost:8080/"
        },
        "outputId": "0c9f14be-2743-47bd-b19c-1b2e51f4094f"
      },
      "source": [
        "scores = []\n",
        "for name, clf in zip(names, classifiers):\n",
        "    clf.fit(X_train, Y_train)\n",
        "    score = clf.score(X_test, Y_test)\n",
        "    scores.append(score)"
      ],
      "execution_count": null,
      "outputs": [
        {
          "output_type": "stream",
          "text": [
            "/usr/local/lib/python3.7/dist-packages/sklearn/neural_network/_multilayer_perceptron.py:571: ConvergenceWarning: Stochastic Optimizer: Maximum iterations (1000) reached and the optimization hasn't converged yet.\n",
            "  % self.max_iter, ConvergenceWarning)\n"
          ],
          "name": "stderr"
        }
      ]
    },
    {
      "cell_type": "code",
      "metadata": {
        "id": "Dnaal-SkxZtX",
        "colab": {
          "base_uri": "https://localhost:8080/"
        },
        "outputId": "56a72253-28bf-4d9c-d6e1-3645ca29fdde"
      },
      "source": [
        "scores"
      ],
      "execution_count": null,
      "outputs": [
        {
          "output_type": "execute_result",
          "data": {
            "text/plain": [
              "[0.7325,\n",
              " 0.73,\n",
              " 0.7015,\n",
              " 0.5625,\n",
              " 0.4395,\n",
              " 0.739,\n",
              " 0.7765,\n",
              " 0.7275,\n",
              " 0.77,\n",
              " 0.6815,\n",
              " 0.7685,\n",
              " 0.734,\n",
              " 0.7345,\n",
              " 0.6655]"
            ]
          },
          "metadata": {
            "tags": []
          },
          "execution_count": 16
        }
      ]
    },
    {
      "cell_type": "markdown",
      "metadata": {
        "id": "yFLXSr63xZtZ"
      },
      "source": [
        "## 4. Analysis of Model Performance"
      ]
    },
    {
      "cell_type": "markdown",
      "metadata": {
        "id": "mgZaRNdjxZtb"
      },
      "source": [
        "### 4.1. Import library"
      ]
    },
    {
      "cell_type": "code",
      "metadata": {
        "id": "q1kSCi16xZte"
      },
      "source": [
        "import pandas as pd\n",
        "import seaborn as sns"
      ],
      "execution_count": null,
      "outputs": []
    },
    {
      "cell_type": "markdown",
      "metadata": {
        "id": "hj3n19lzxZtf"
      },
      "source": [
        "### 4.2. Create data frame of *model performance*"
      ]
    },
    {
      "cell_type": "code",
      "metadata": {
        "id": "WHdaJQ1-xZtg",
        "colab": {
          "base_uri": "https://localhost:8080/",
          "height": 483
        },
        "outputId": "f1b27d71-750c-4859-c17c-98988fd4a3fc"
      },
      "source": [
        "df = pd.DataFrame()\n",
        "df['name'] = names\n",
        "df['score'] = scores\n",
        "df"
      ],
      "execution_count": null,
      "outputs": [
        {
          "output_type": "execute_result",
          "data": {
            "text/html": [
              "<div>\n",
              "<style scoped>\n",
              "    .dataframe tbody tr th:only-of-type {\n",
              "        vertical-align: middle;\n",
              "    }\n",
              "\n",
              "    .dataframe tbody tr th {\n",
              "        vertical-align: top;\n",
              "    }\n",
              "\n",
              "    .dataframe thead th {\n",
              "        text-align: right;\n",
              "    }\n",
              "</style>\n",
              "<table border=\"1\" class=\"dataframe\">\n",
              "  <thead>\n",
              "    <tr style=\"text-align: right;\">\n",
              "      <th></th>\n",
              "      <th>name</th>\n",
              "      <th>score</th>\n",
              "    </tr>\n",
              "  </thead>\n",
              "  <tbody>\n",
              "    <tr>\n",
              "      <th>0</th>\n",
              "      <td>Nearest_Neighbors</td>\n",
              "      <td>0.7325</td>\n",
              "    </tr>\n",
              "    <tr>\n",
              "      <th>1</th>\n",
              "      <td>Linear_SVM</td>\n",
              "      <td>0.7300</td>\n",
              "    </tr>\n",
              "    <tr>\n",
              "      <th>2</th>\n",
              "      <td>Polynomial_SVM</td>\n",
              "      <td>0.7015</td>\n",
              "    </tr>\n",
              "    <tr>\n",
              "      <th>3</th>\n",
              "      <td>RBF_SVM</td>\n",
              "      <td>0.5625</td>\n",
              "    </tr>\n",
              "    <tr>\n",
              "      <th>4</th>\n",
              "      <td>Gaussian_Process</td>\n",
              "      <td>0.4395</td>\n",
              "    </tr>\n",
              "    <tr>\n",
              "      <th>5</th>\n",
              "      <td>Gradient_Boosting</td>\n",
              "      <td>0.7390</td>\n",
              "    </tr>\n",
              "    <tr>\n",
              "      <th>6</th>\n",
              "      <td>Decision_Tree</td>\n",
              "      <td>0.7765</td>\n",
              "    </tr>\n",
              "    <tr>\n",
              "      <th>7</th>\n",
              "      <td>Extra_Trees</td>\n",
              "      <td>0.7275</td>\n",
              "    </tr>\n",
              "    <tr>\n",
              "      <th>8</th>\n",
              "      <td>Random_Forest</td>\n",
              "      <td>0.7700</td>\n",
              "    </tr>\n",
              "    <tr>\n",
              "      <th>9</th>\n",
              "      <td>Neural_Net</td>\n",
              "      <td>0.6815</td>\n",
              "    </tr>\n",
              "    <tr>\n",
              "      <th>10</th>\n",
              "      <td>AdaBoost</td>\n",
              "      <td>0.7685</td>\n",
              "    </tr>\n",
              "    <tr>\n",
              "      <th>11</th>\n",
              "      <td>Naive_Bayes</td>\n",
              "      <td>0.7340</td>\n",
              "    </tr>\n",
              "    <tr>\n",
              "      <th>12</th>\n",
              "      <td>QDA</td>\n",
              "      <td>0.7345</td>\n",
              "    </tr>\n",
              "    <tr>\n",
              "      <th>13</th>\n",
              "      <td>SGD</td>\n",
              "      <td>0.6655</td>\n",
              "    </tr>\n",
              "  </tbody>\n",
              "</table>\n",
              "</div>"
            ],
            "text/plain": [
              "                 name   score\n",
              "0   Nearest_Neighbors  0.7325\n",
              "1          Linear_SVM  0.7300\n",
              "2      Polynomial_SVM  0.7015\n",
              "3             RBF_SVM  0.5625\n",
              "4    Gaussian_Process  0.4395\n",
              "5   Gradient_Boosting  0.7390\n",
              "6       Decision_Tree  0.7765\n",
              "7         Extra_Trees  0.7275\n",
              "8       Random_Forest  0.7700\n",
              "9          Neural_Net  0.6815\n",
              "10           AdaBoost  0.7685\n",
              "11        Naive_Bayes  0.7340\n",
              "12                QDA  0.7345\n",
              "13                SGD  0.6655"
            ]
          },
          "metadata": {
            "tags": []
          },
          "execution_count": 18
        }
      ]
    },
    {
      "cell_type": "markdown",
      "metadata": {
        "id": "J7dwMODBxZti"
      },
      "source": [
        "### 4.3. Adding colors to the data frame"
      ]
    },
    {
      "cell_type": "code",
      "metadata": {
        "scrolled": true,
        "id": "Br5ZROpzxZtj",
        "colab": {
          "base_uri": "https://localhost:8080/",
          "height": 334
        },
        "outputId": "8e0f9f00-e1d3-419a-ed02-b44930ce2cbc"
      },
      "source": [
        "#https://pandas.pydata.org/pandas-docs/stable/user_guide/style.html\n",
        "\n",
        "cm = sns.light_palette(\"green\", as_cmap=True)\n",
        "s = df.style.background_gradient(cmap=cm)\n",
        "s"
      ],
      "execution_count": null,
      "outputs": [
        {
          "output_type": "execute_result",
          "data": {
            "text/html": [
              "<style  type=\"text/css\" >\n",
              "#T_56b41afc_8025_11eb_88dc_0242ac1c0002row0_col1{\n",
              "            background-color:  #1e8f1e;\n",
              "            color:  #000000;\n",
              "        }#T_56b41afc_8025_11eb_88dc_0242ac1c0002row1_col1{\n",
              "            background-color:  #209020;\n",
              "            color:  #000000;\n",
              "        }#T_56b41afc_8025_11eb_88dc_0242ac1c0002row2_col1{\n",
              "            background-color:  #349934;\n",
              "            color:  #000000;\n",
              "        }#T_56b41afc_8025_11eb_88dc_0242ac1c0002row3_col1{\n",
              "            background-color:  #95c995;\n",
              "            color:  #000000;\n",
              "        }#T_56b41afc_8025_11eb_88dc_0242ac1c0002row4_col1{\n",
              "            background-color:  #ebf3eb;\n",
              "            color:  #000000;\n",
              "        }#T_56b41afc_8025_11eb_88dc_0242ac1c0002row5_col1{\n",
              "            background-color:  #1a8d1a;\n",
              "            color:  #000000;\n",
              "        }#T_56b41afc_8025_11eb_88dc_0242ac1c0002row6_col1{\n",
              "            background-color:  #008000;\n",
              "            color:  #f1f1f1;\n",
              "        }#T_56b41afc_8025_11eb_88dc_0242ac1c0002row7_col1{\n",
              "            background-color:  #229122;\n",
              "            color:  #000000;\n",
              "        }#T_56b41afc_8025_11eb_88dc_0242ac1c0002row8_col1{\n",
              "            background-color:  #048204;\n",
              "            color:  #f1f1f1;\n",
              "        }#T_56b41afc_8025_11eb_88dc_0242ac1c0002row9_col1{\n",
              "            background-color:  #42a042;\n",
              "            color:  #000000;\n",
              "        }#T_56b41afc_8025_11eb_88dc_0242ac1c0002row10_col1{\n",
              "            background-color:  #068306;\n",
              "            color:  #f1f1f1;\n",
              "        }#T_56b41afc_8025_11eb_88dc_0242ac1c0002row11_col1,#T_56b41afc_8025_11eb_88dc_0242ac1c0002row12_col1{\n",
              "            background-color:  #1d8e1d;\n",
              "            color:  #000000;\n",
              "        }#T_56b41afc_8025_11eb_88dc_0242ac1c0002row13_col1{\n",
              "            background-color:  #4da64d;\n",
              "            color:  #000000;\n",
              "        }</style><table id=\"T_56b41afc_8025_11eb_88dc_0242ac1c0002\" ><thead>    <tr>        <th class=\"blank level0\" ></th>        <th class=\"col_heading level0 col0\" >name</th>        <th class=\"col_heading level0 col1\" >score</th>    </tr></thead><tbody>\n",
              "                <tr>\n",
              "                        <th id=\"T_56b41afc_8025_11eb_88dc_0242ac1c0002level0_row0\" class=\"row_heading level0 row0\" >0</th>\n",
              "                        <td id=\"T_56b41afc_8025_11eb_88dc_0242ac1c0002row0_col0\" class=\"data row0 col0\" >Nearest_Neighbors</td>\n",
              "                        <td id=\"T_56b41afc_8025_11eb_88dc_0242ac1c0002row0_col1\" class=\"data row0 col1\" >0.732500</td>\n",
              "            </tr>\n",
              "            <tr>\n",
              "                        <th id=\"T_56b41afc_8025_11eb_88dc_0242ac1c0002level0_row1\" class=\"row_heading level0 row1\" >1</th>\n",
              "                        <td id=\"T_56b41afc_8025_11eb_88dc_0242ac1c0002row1_col0\" class=\"data row1 col0\" >Linear_SVM</td>\n",
              "                        <td id=\"T_56b41afc_8025_11eb_88dc_0242ac1c0002row1_col1\" class=\"data row1 col1\" >0.730000</td>\n",
              "            </tr>\n",
              "            <tr>\n",
              "                        <th id=\"T_56b41afc_8025_11eb_88dc_0242ac1c0002level0_row2\" class=\"row_heading level0 row2\" >2</th>\n",
              "                        <td id=\"T_56b41afc_8025_11eb_88dc_0242ac1c0002row2_col0\" class=\"data row2 col0\" >Polynomial_SVM</td>\n",
              "                        <td id=\"T_56b41afc_8025_11eb_88dc_0242ac1c0002row2_col1\" class=\"data row2 col1\" >0.701500</td>\n",
              "            </tr>\n",
              "            <tr>\n",
              "                        <th id=\"T_56b41afc_8025_11eb_88dc_0242ac1c0002level0_row3\" class=\"row_heading level0 row3\" >3</th>\n",
              "                        <td id=\"T_56b41afc_8025_11eb_88dc_0242ac1c0002row3_col0\" class=\"data row3 col0\" >RBF_SVM</td>\n",
              "                        <td id=\"T_56b41afc_8025_11eb_88dc_0242ac1c0002row3_col1\" class=\"data row3 col1\" >0.562500</td>\n",
              "            </tr>\n",
              "            <tr>\n",
              "                        <th id=\"T_56b41afc_8025_11eb_88dc_0242ac1c0002level0_row4\" class=\"row_heading level0 row4\" >4</th>\n",
              "                        <td id=\"T_56b41afc_8025_11eb_88dc_0242ac1c0002row4_col0\" class=\"data row4 col0\" >Gaussian_Process</td>\n",
              "                        <td id=\"T_56b41afc_8025_11eb_88dc_0242ac1c0002row4_col1\" class=\"data row4 col1\" >0.439500</td>\n",
              "            </tr>\n",
              "            <tr>\n",
              "                        <th id=\"T_56b41afc_8025_11eb_88dc_0242ac1c0002level0_row5\" class=\"row_heading level0 row5\" >5</th>\n",
              "                        <td id=\"T_56b41afc_8025_11eb_88dc_0242ac1c0002row5_col0\" class=\"data row5 col0\" >Gradient_Boosting</td>\n",
              "                        <td id=\"T_56b41afc_8025_11eb_88dc_0242ac1c0002row5_col1\" class=\"data row5 col1\" >0.739000</td>\n",
              "            </tr>\n",
              "            <tr>\n",
              "                        <th id=\"T_56b41afc_8025_11eb_88dc_0242ac1c0002level0_row6\" class=\"row_heading level0 row6\" >6</th>\n",
              "                        <td id=\"T_56b41afc_8025_11eb_88dc_0242ac1c0002row6_col0\" class=\"data row6 col0\" >Decision_Tree</td>\n",
              "                        <td id=\"T_56b41afc_8025_11eb_88dc_0242ac1c0002row6_col1\" class=\"data row6 col1\" >0.776500</td>\n",
              "            </tr>\n",
              "            <tr>\n",
              "                        <th id=\"T_56b41afc_8025_11eb_88dc_0242ac1c0002level0_row7\" class=\"row_heading level0 row7\" >7</th>\n",
              "                        <td id=\"T_56b41afc_8025_11eb_88dc_0242ac1c0002row7_col0\" class=\"data row7 col0\" >Extra_Trees</td>\n",
              "                        <td id=\"T_56b41afc_8025_11eb_88dc_0242ac1c0002row7_col1\" class=\"data row7 col1\" >0.727500</td>\n",
              "            </tr>\n",
              "            <tr>\n",
              "                        <th id=\"T_56b41afc_8025_11eb_88dc_0242ac1c0002level0_row8\" class=\"row_heading level0 row8\" >8</th>\n",
              "                        <td id=\"T_56b41afc_8025_11eb_88dc_0242ac1c0002row8_col0\" class=\"data row8 col0\" >Random_Forest</td>\n",
              "                        <td id=\"T_56b41afc_8025_11eb_88dc_0242ac1c0002row8_col1\" class=\"data row8 col1\" >0.770000</td>\n",
              "            </tr>\n",
              "            <tr>\n",
              "                        <th id=\"T_56b41afc_8025_11eb_88dc_0242ac1c0002level0_row9\" class=\"row_heading level0 row9\" >9</th>\n",
              "                        <td id=\"T_56b41afc_8025_11eb_88dc_0242ac1c0002row9_col0\" class=\"data row9 col0\" >Neural_Net</td>\n",
              "                        <td id=\"T_56b41afc_8025_11eb_88dc_0242ac1c0002row9_col1\" class=\"data row9 col1\" >0.681500</td>\n",
              "            </tr>\n",
              "            <tr>\n",
              "                        <th id=\"T_56b41afc_8025_11eb_88dc_0242ac1c0002level0_row10\" class=\"row_heading level0 row10\" >10</th>\n",
              "                        <td id=\"T_56b41afc_8025_11eb_88dc_0242ac1c0002row10_col0\" class=\"data row10 col0\" >AdaBoost</td>\n",
              "                        <td id=\"T_56b41afc_8025_11eb_88dc_0242ac1c0002row10_col1\" class=\"data row10 col1\" >0.768500</td>\n",
              "            </tr>\n",
              "            <tr>\n",
              "                        <th id=\"T_56b41afc_8025_11eb_88dc_0242ac1c0002level0_row11\" class=\"row_heading level0 row11\" >11</th>\n",
              "                        <td id=\"T_56b41afc_8025_11eb_88dc_0242ac1c0002row11_col0\" class=\"data row11 col0\" >Naive_Bayes</td>\n",
              "                        <td id=\"T_56b41afc_8025_11eb_88dc_0242ac1c0002row11_col1\" class=\"data row11 col1\" >0.734000</td>\n",
              "            </tr>\n",
              "            <tr>\n",
              "                        <th id=\"T_56b41afc_8025_11eb_88dc_0242ac1c0002level0_row12\" class=\"row_heading level0 row12\" >12</th>\n",
              "                        <td id=\"T_56b41afc_8025_11eb_88dc_0242ac1c0002row12_col0\" class=\"data row12 col0\" >QDA</td>\n",
              "                        <td id=\"T_56b41afc_8025_11eb_88dc_0242ac1c0002row12_col1\" class=\"data row12 col1\" >0.734500</td>\n",
              "            </tr>\n",
              "            <tr>\n",
              "                        <th id=\"T_56b41afc_8025_11eb_88dc_0242ac1c0002level0_row13\" class=\"row_heading level0 row13\" >13</th>\n",
              "                        <td id=\"T_56b41afc_8025_11eb_88dc_0242ac1c0002row13_col0\" class=\"data row13 col0\" >SGD</td>\n",
              "                        <td id=\"T_56b41afc_8025_11eb_88dc_0242ac1c0002row13_col1\" class=\"data row13 col1\" >0.665500</td>\n",
              "            </tr>\n",
              "    </tbody></table>"
            ],
            "text/plain": [
              "<pandas.io.formats.style.Styler at 0x7fe5ab4e9950>"
            ]
          },
          "metadata": {
            "tags": []
          },
          "execution_count": 19
        }
      ]
    },
    {
      "cell_type": "markdown",
      "metadata": {
        "id": "7AVMDXysxZtm"
      },
      "source": [
        "### 4.4. Bar plot of model performance"
      ]
    },
    {
      "cell_type": "code",
      "metadata": {
        "scrolled": true,
        "id": "RjeQ9abexZtn",
        "colab": {
          "base_uri": "https://localhost:8080/",
          "height": 285
        },
        "outputId": "92378ee9-be34-46a3-bf17-365b38e031df"
      },
      "source": [
        "sns.set(style=\"whitegrid\")\n",
        "ax = sns.barplot(y=\"name\", x=\"score\", data=df)"
      ],
      "execution_count": null,
      "outputs": [
        {
          "output_type": "display_data",
          "data": {
            "image/png": "[encoded data removed]",
            "text/plain": [
              "<Figure size 432x288 with 1 Axes>"
            ]
          },
          "metadata": {
            "tags": []
          }
        }
      ]
    },
    {
      "cell_type": "markdown",
      "metadata": {
        "id": "5vLufoXhxZtp"
      },
      "source": [
        "---"
      ]
    }
  ]
}