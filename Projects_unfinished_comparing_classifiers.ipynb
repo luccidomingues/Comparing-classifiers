{
  "nbformat": 4,
  "nbformat_minor": 0,
  "metadata": {
    "kernelspec": {
      "display_name": "Python 3",
      "language": "python",
      "name": "python3"
    },
    "language_info": {
      "codemirror_mode": {
        "name": "ipython",
        "version": 3
      },
      "file_extension": ".py",
      "mimetype": "text/x-python",
      "name": "python",
      "nbconvert_exporter": "python",
      "pygments_lexer": "ipython3",
      "version": "3.7.6"
    },
    "colab": {
      "name": "Projects unfinished_comparing-classifiers.ipynb",
      "provenance": [],
      "collapsed_sections": [],
      "toc_visible": true,
      "include_colab_link": true
    }
  },
  "cells": [
    {
      "cell_type": "markdown",
      "metadata": {
        "id": "view-in-github",
        "colab_type": "text"
      },
      "source": [
        "<a href=\"https://colab.research.google.com/github/luccidomingues/Comparing-classifiers/blob/main/Projects_unfinished_comparing_classifiers.ipynb\" target=\"_parent\"><img src=\"https://colab.research.google.com/assets/colab-badge.svg\" alt=\"Open In Colab\"/></a>"
      ]
    },
    {
      "cell_type": "markdown",
      "metadata": {
        "id": "C-q6cv_CxZsX"
      },
      "source": [
        "# Comparing Classifiers for Building Classification Models\n",
        "\n",
        "\n",
        "In this Jupyter notebook, we will be comparing the performance of different classifiers for building classification models."
      ]
    },
    {
      "cell_type": "markdown",
      "metadata": {
        "id": "mtJkthFRxZsy"
      },
      "source": [
        "## 1. Import a  dataset"
      ]
    },
    {
      "cell_type": "markdown",
      "metadata": {
        "id": "uE5-Vk9vxZs0"
      },
      "source": [
        "### 1.1. Import library"
      ]
    },
    {
      "cell_type": "code",
      "metadata": {
        "id": "UDS82sZbxZs2",
        "colab": {
          "base_uri": "https://localhost:8080/",
          "height": 419
        },
        "outputId": "8b9533be-b6fd-4095-8270-82f1546848e0"
      },
      "source": [
        "import pandas as pd\r\n",
        "\r\n",
        "projects = 'projects.csv'\r\n",
        "dataset = pd.read_csv(projects)\r\n",
        "dataset"
      ],
      "execution_count": null,
      "outputs": [
        {
          "output_type": "execute_result",
          "data": {
            "text/html": [
              "<div>\n",
              "<style scoped>\n",
              "    .dataframe tbody tr th:only-of-type {\n",
              "        vertical-align: middle;\n",
              "    }\n",
              "\n",
              "    .dataframe tbody tr th {\n",
              "        vertical-align: top;\n",
              "    }\n",
              "\n",
              "    .dataframe thead th {\n",
              "        text-align: right;\n",
              "    }\n",
              "</style>\n",
              "<table border=\"1\" class=\"dataframe\">\n",
              "  <thead>\n",
              "    <tr style=\"text-align: right;\">\n",
              "      <th></th>\n",
              "      <th>unfinished</th>\n",
              "      <th>expected_hours</th>\n",
              "      <th>price</th>\n",
              "    </tr>\n",
              "  </thead>\n",
              "  <tbody>\n",
              "    <tr>\n",
              "      <th>0</th>\n",
              "      <td>1</td>\n",
              "      <td>26</td>\n",
              "      <td>192</td>\n",
              "    </tr>\n",
              "    <tr>\n",
              "      <th>1</th>\n",
              "      <td>1</td>\n",
              "      <td>88</td>\n",
              "      <td>9015</td>\n",
              "    </tr>\n",
              "    <tr>\n",
              "      <th>2</th>\n",
              "      <td>1</td>\n",
              "      <td>89</td>\n",
              "      <td>2577</td>\n",
              "    </tr>\n",
              "    <tr>\n",
              "      <th>3</th>\n",
              "      <td>1</td>\n",
              "      <td>42</td>\n",
              "      <td>275</td>\n",
              "    </tr>\n",
              "    <tr>\n",
              "      <th>4</th>\n",
              "      <td>1</td>\n",
              "      <td>39</td>\n",
              "      <td>170</td>\n",
              "    </tr>\n",
              "    <tr>\n",
              "      <th>...</th>\n",
              "      <td>...</td>\n",
              "      <td>...</td>\n",
              "      <td>...</td>\n",
              "    </tr>\n",
              "    <tr>\n",
              "      <th>2152</th>\n",
              "      <td>0</td>\n",
              "      <td>80</td>\n",
              "      <td>7518</td>\n",
              "    </tr>\n",
              "    <tr>\n",
              "      <th>2153</th>\n",
              "      <td>1</td>\n",
              "      <td>52</td>\n",
              "      <td>1332</td>\n",
              "    </tr>\n",
              "    <tr>\n",
              "      <th>2154</th>\n",
              "      <td>0</td>\n",
              "      <td>40</td>\n",
              "      <td>473</td>\n",
              "    </tr>\n",
              "    <tr>\n",
              "      <th>2155</th>\n",
              "      <td>0</td>\n",
              "      <td>75</td>\n",
              "      <td>5324</td>\n",
              "    </tr>\n",
              "    <tr>\n",
              "      <th>2156</th>\n",
              "      <td>1</td>\n",
              "      <td>37</td>\n",
              "      <td>377</td>\n",
              "    </tr>\n",
              "  </tbody>\n",
              "</table>\n",
              "<p>2157 rows × 3 columns</p>\n",
              "</div>"
            ],
            "text/plain": [
              "      unfinished  expected_hours  price\n",
              "0              1              26    192\n",
              "1              1              88   9015\n",
              "2              1              89   2577\n",
              "3              1              42    275\n",
              "4              1              39    170\n",
              "...          ...             ...    ...\n",
              "2152           0              80   7518\n",
              "2153           1              52   1332\n",
              "2154           0              40    473\n",
              "2155           0              75   5324\n",
              "2156           1              37    377\n",
              "\n",
              "[2157 rows x 3 columns]"
            ]
          },
          "metadata": {
            "tags": []
          },
          "execution_count": 3
        }
      ]
    },
    {
      "cell_type": "code",
      "metadata": {
        "colab": {
          "base_uri": "https://localhost:8080/"
        },
        "id": "G_l9bEDx2_5V",
        "outputId": "91a351f2-c9c6-4122-f765-bc616fe6644f"
      },
      "source": [
        "X = dataset.drop(['unfinished'], axis=1)\r\n",
        "Y = dataset.iloc[:,0]\r\n",
        "X"
      ],
      "execution_count": null,
      "outputs": [
        {
          "output_type": "execute_result",
          "data": {
            "text/plain": [
              "0       1\n",
              "1       1\n",
              "2       1\n",
              "3       1\n",
              "4       1\n",
              "       ..\n",
              "2152    0\n",
              "2153    1\n",
              "2154    0\n",
              "2155    0\n",
              "2156    1\n",
              "Name: unfinished, Length: 2157, dtype: int64"
            ]
          },
          "metadata": {
            "tags": []
          },
          "execution_count": 5
        }
      ]
    },
    {
      "cell_type": "markdown",
      "metadata": {
        "id": "xkEHJhcwxZs7"
      },
      "source": [
        "### 1.2. Let's examine the data dimension"
      ]
    },
    {
      "cell_type": "code",
      "metadata": {
        "id": "cn3fSiSrxZs9",
        "colab": {
          "base_uri": "https://localhost:8080/"
        },
        "outputId": "6bda660d-cd1c-458b-8e2a-8009e84a9f29"
      },
      "source": [
        "X.shape"
      ],
      "execution_count": null,
      "outputs": [
        {
          "output_type": "execute_result",
          "data": {
            "text/plain": [
              "(2157, 2)"
            ]
          },
          "metadata": {
            "tags": []
          },
          "execution_count": 6
        }
      ]
    },
    {
      "cell_type": "code",
      "metadata": {
        "id": "ZHRc_rp4xZtB",
        "colab": {
          "base_uri": "https://localhost:8080/"
        },
        "outputId": "7bcc24d5-004f-43a7-fe8f-3f314f95718a"
      },
      "source": [
        "Y.shape"
      ],
      "execution_count": null,
      "outputs": [
        {
          "output_type": "execute_result",
          "data": {
            "text/plain": [
              "(2157,)"
            ]
          },
          "metadata": {
            "tags": []
          },
          "execution_count": 7
        }
      ]
    },
    {
      "cell_type": "markdown",
      "metadata": {
        "id": "4gOajc2uxZtC"
      },
      "source": [
        "## 2. Data split (80/20 ratio)"
      ]
    },
    {
      "cell_type": "markdown",
      "metadata": {
        "id": "D6ylnp-lxZtE"
      },
      "source": [
        "### 2.1. Import library"
      ]
    },
    {
      "cell_type": "code",
      "metadata": {
        "id": "PtETzA9uxZtF"
      },
      "source": [
        "from sklearn.model_selection import train_test_split"
      ],
      "execution_count": null,
      "outputs": []
    },
    {
      "cell_type": "markdown",
      "metadata": {
        "id": "gsYzCa1KxZtG"
      },
      "source": [
        "### 2.2. Data split"
      ]
    },
    {
      "cell_type": "code",
      "metadata": {
        "id": "fLquuIhexZtH"
      },
      "source": [
        "X_train, X_test, Y_train, Y_test = train_test_split(X, Y, test_size=0.2)\r\n",
        "\r\n"
      ],
      "execution_count": null,
      "outputs": []
    },
    {
      "cell_type": "markdown",
      "metadata": {
        "id": "6k_UG0JtxZtI"
      },
      "source": [
        "### 2.3. Let's examine the data dimension"
      ]
    },
    {
      "cell_type": "code",
      "metadata": {
        "id": "kqL_Mv8HxZtJ",
        "colab": {
          "base_uri": "https://localhost:8080/"
        },
        "outputId": "e2d6a230-04a7-4e2d-a659-2995441a7f84"
      },
      "source": [
        "X_train.shape, Y_train.shape"
      ],
      "execution_count": null,
      "outputs": [
        {
          "output_type": "execute_result",
          "data": {
            "text/plain": [
              "((1725, 2), (1725,))"
            ]
          },
          "metadata": {
            "tags": []
          },
          "execution_count": 10
        }
      ]
    },
    {
      "cell_type": "code",
      "metadata": {
        "id": "9IGhJJT6xZtM",
        "colab": {
          "base_uri": "https://localhost:8080/"
        },
        "outputId": "db5c3b79-328e-4810-8f0d-108071db596e"
      },
      "source": [
        "X_test.shape, Y_test.shape"
      ],
      "execution_count": null,
      "outputs": [
        {
          "output_type": "execute_result",
          "data": {
            "text/plain": [
              "((432, 2), (432,))"
            ]
          },
          "metadata": {
            "tags": []
          },
          "execution_count": 11
        }
      ]
    },
    {
      "cell_type": "markdown",
      "metadata": {
        "id": "rgWTmsRSxZtO"
      },
      "source": [
        "## 3. Build Classification Models\n",
        "\n",
        "Modified from: https://scikit-learn.org/stable/auto_examples/classification/plot_classifier_comparison.html"
      ]
    },
    {
      "cell_type": "markdown",
      "metadata": {
        "id": "9ujxaH5WxZtP"
      },
      "source": [
        "### 3.1. Import modules"
      ]
    },
    {
      "cell_type": "code",
      "metadata": {
        "id": "HjsSjE8nxZtQ"
      },
      "source": [
        "import pandas as pd\n",
        "\n",
        "from sklearn.neural_network import MLPClassifier\n",
        "from sklearn.neighbors import KNeighborsClassifier\n",
        "from sklearn.svm import SVC\n",
        "from sklearn.gaussian_process import GaussianProcessClassifier\n",
        "from sklearn.ensemble import GradientBoostingClassifier\n",
        "from sklearn.gaussian_process.kernels import RBF\n",
        "from sklearn.tree import DecisionTreeClassifier\n",
        "from sklearn.ensemble import ExtraTreesClassifier\n",
        "from sklearn.ensemble import RandomForestClassifier, AdaBoostClassifier\n",
        "from sklearn.naive_bayes import GaussianNB\n",
        "from sklearn.discriminant_analysis import QuadraticDiscriminantAnalysis\n",
        "from sklearn.linear_model import SGDClassifier"
      ],
      "execution_count": null,
      "outputs": []
    },
    {
      "cell_type": "markdown",
      "metadata": {
        "id": "5WnHP8RIxZtR"
      },
      "source": [
        "### 3.2. Defining learning classifiers"
      ]
    },
    {
      "cell_type": "code",
      "metadata": {
        "id": "e7ZlHs3pxZtS"
      },
      "source": [
        "names = [\"Nearest_Neighbors\", \"Linear_SVM\", \"Polynomial_SVM\", \"RBF_SVM\", \"Gaussian_Process\",\n",
        "         \"Gradient_Boosting\", \"Decision_Tree\", \"Extra_Trees\", \"Random_Forest\", \"Neural_Net\", \"AdaBoost\",\n",
        "         \"Naive_Bayes\", \"QDA\", \"SGD\"]\n",
        "\n",
        "classifiers = [\n",
        "    KNeighborsClassifier(3),\n",
        "    SVC(kernel=\"linear\", C=0.025),\n",
        "    SVC(kernel=\"poly\", degree=3, C=0.025),\n",
        "    SVC(kernel=\"rbf\", C=1, gamma=2),\n",
        "    GaussianProcessClassifier(1.0 * RBF(1.0)),\n",
        "    GradientBoostingClassifier(n_estimators=100, learning_rate=1.0),\n",
        "    DecisionTreeClassifier(max_depth=5),\n",
        "    ExtraTreesClassifier(n_estimators=10, min_samples_split=2),\n",
        "    RandomForestClassifier(max_depth=5, n_estimators=100),\n",
        "    MLPClassifier(alpha=1, max_iter=1000),\n",
        "    AdaBoostClassifier(n_estimators=100),\n",
        "    GaussianNB(),\n",
        "    QuadraticDiscriminantAnalysis(),\n",
        "    SGDClassifier(loss=\"hinge\", penalty=\"l2\")]"
      ],
      "execution_count": null,
      "outputs": []
    },
    {
      "cell_type": "markdown",
      "metadata": {
        "id": "SOAy_DPjxZtV"
      },
      "source": [
        "### 3.3. Build Model, Apply Model on Test Data & Record Accuracy Scores"
      ]
    },
    {
      "cell_type": "code",
      "metadata": {
        "id": "E5bsKe8exZtW"
      },
      "source": [
        "scores = []\n",
        "for name, clf in zip(names, classifiers):\n",
        "    clf.fit(X_train, Y_train)\n",
        "    score = clf.score(X_test, Y_test)\n",
        "    scores.append(score)"
      ],
      "execution_count": null,
      "outputs": []
    },
    {
      "cell_type": "code",
      "metadata": {
        "id": "Dnaal-SkxZtX",
        "colab": {
          "base_uri": "https://localhost:8080/"
        },
        "outputId": "9269cfaa-3764-464c-c7c8-140b1c85ca64"
      },
      "source": [
        "scores"
      ],
      "execution_count": null,
      "outputs": [
        {
          "output_type": "execute_result",
          "data": {
            "text/plain": [
              "[0.7129629629629629,\n",
              " 0.5671296296296297,\n",
              " 0.5509259259259259,\n",
              " 0.5717592592592593,\n",
              " 0.7916666666666666,\n",
              " 0.7592592592592593,\n",
              " 0.7314814814814815,\n",
              " 0.7847222222222222,\n",
              " 0.7638888888888888,\n",
              " 0.6504629629629629,\n",
              " 0.7800925925925926,\n",
              " 0.5208333333333334,\n",
              " 0.5162037037037037,\n",
              " 0.5925925925925926]"
            ]
          },
          "metadata": {
            "tags": []
          },
          "execution_count": 24
        }
      ]
    },
    {
      "cell_type": "markdown",
      "metadata": {
        "id": "yFLXSr63xZtZ"
      },
      "source": [
        "## 4. Analysis of Model Performance"
      ]
    },
    {
      "cell_type": "markdown",
      "metadata": {
        "id": "mgZaRNdjxZtb"
      },
      "source": [
        "### 4.1. Import library"
      ]
    },
    {
      "cell_type": "code",
      "metadata": {
        "id": "q1kSCi16xZte"
      },
      "source": [
        "import pandas as pd\n",
        "import seaborn as sns"
      ],
      "execution_count": null,
      "outputs": []
    },
    {
      "cell_type": "markdown",
      "metadata": {
        "id": "hj3n19lzxZtf"
      },
      "source": [
        "### 4.2. Create data frame of *model performance*"
      ]
    },
    {
      "cell_type": "code",
      "metadata": {
        "id": "WHdaJQ1-xZtg",
        "colab": {
          "base_uri": "https://localhost:8080/",
          "height": 483
        },
        "outputId": "92afe96b-d6fe-4bf2-9504-72d6583d8d6b"
      },
      "source": [
        "df = pd.DataFrame()\n",
        "df['name'] = names\n",
        "df['score'] = scores\n",
        "df"
      ],
      "execution_count": null,
      "outputs": [
        {
          "output_type": "execute_result",
          "data": {
            "text/html": [
              "<div>\n",
              "<style scoped>\n",
              "    .dataframe tbody tr th:only-of-type {\n",
              "        vertical-align: middle;\n",
              "    }\n",
              "\n",
              "    .dataframe tbody tr th {\n",
              "        vertical-align: top;\n",
              "    }\n",
              "\n",
              "    .dataframe thead th {\n",
              "        text-align: right;\n",
              "    }\n",
              "</style>\n",
              "<table border=\"1\" class=\"dataframe\">\n",
              "  <thead>\n",
              "    <tr style=\"text-align: right;\">\n",
              "      <th></th>\n",
              "      <th>name</th>\n",
              "      <th>score</th>\n",
              "    </tr>\n",
              "  </thead>\n",
              "  <tbody>\n",
              "    <tr>\n",
              "      <th>0</th>\n",
              "      <td>Nearest_Neighbors</td>\n",
              "      <td>0.712963</td>\n",
              "    </tr>\n",
              "    <tr>\n",
              "      <th>1</th>\n",
              "      <td>Linear_SVM</td>\n",
              "      <td>0.567130</td>\n",
              "    </tr>\n",
              "    <tr>\n",
              "      <th>2</th>\n",
              "      <td>Polynomial_SVM</td>\n",
              "      <td>0.550926</td>\n",
              "    </tr>\n",
              "    <tr>\n",
              "      <th>3</th>\n",
              "      <td>RBF_SVM</td>\n",
              "      <td>0.571759</td>\n",
              "    </tr>\n",
              "    <tr>\n",
              "      <th>4</th>\n",
              "      <td>Gaussian_Process</td>\n",
              "      <td>0.791667</td>\n",
              "    </tr>\n",
              "    <tr>\n",
              "      <th>5</th>\n",
              "      <td>Gradient_Boosting</td>\n",
              "      <td>0.759259</td>\n",
              "    </tr>\n",
              "    <tr>\n",
              "      <th>6</th>\n",
              "      <td>Decision_Tree</td>\n",
              "      <td>0.731481</td>\n",
              "    </tr>\n",
              "    <tr>\n",
              "      <th>7</th>\n",
              "      <td>Extra_Trees</td>\n",
              "      <td>0.784722</td>\n",
              "    </tr>\n",
              "    <tr>\n",
              "      <th>8</th>\n",
              "      <td>Random_Forest</td>\n",
              "      <td>0.763889</td>\n",
              "    </tr>\n",
              "    <tr>\n",
              "      <th>9</th>\n",
              "      <td>Neural_Net</td>\n",
              "      <td>0.650463</td>\n",
              "    </tr>\n",
              "    <tr>\n",
              "      <th>10</th>\n",
              "      <td>AdaBoost</td>\n",
              "      <td>0.780093</td>\n",
              "    </tr>\n",
              "    <tr>\n",
              "      <th>11</th>\n",
              "      <td>Naive_Bayes</td>\n",
              "      <td>0.520833</td>\n",
              "    </tr>\n",
              "    <tr>\n",
              "      <th>12</th>\n",
              "      <td>QDA</td>\n",
              "      <td>0.516204</td>\n",
              "    </tr>\n",
              "    <tr>\n",
              "      <th>13</th>\n",
              "      <td>SGD</td>\n",
              "      <td>0.592593</td>\n",
              "    </tr>\n",
              "  </tbody>\n",
              "</table>\n",
              "</div>"
            ],
            "text/plain": [
              "                 name     score\n",
              "0   Nearest_Neighbors  0.712963\n",
              "1          Linear_SVM  0.567130\n",
              "2      Polynomial_SVM  0.550926\n",
              "3             RBF_SVM  0.571759\n",
              "4    Gaussian_Process  0.791667\n",
              "5   Gradient_Boosting  0.759259\n",
              "6       Decision_Tree  0.731481\n",
              "7         Extra_Trees  0.784722\n",
              "8       Random_Forest  0.763889\n",
              "9          Neural_Net  0.650463\n",
              "10           AdaBoost  0.780093\n",
              "11        Naive_Bayes  0.520833\n",
              "12                QDA  0.516204\n",
              "13                SGD  0.592593"
            ]
          },
          "metadata": {
            "tags": []
          },
          "execution_count": 26
        }
      ]
    },
    {
      "cell_type": "markdown",
      "metadata": {
        "id": "J7dwMODBxZti"
      },
      "source": [
        "### 4.3. Adding colors to the data frame"
      ]
    },
    {
      "cell_type": "code",
      "metadata": {
        "scrolled": true,
        "id": "Br5ZROpzxZtj",
        "colab": {
          "base_uri": "https://localhost:8080/",
          "height": 334
        },
        "outputId": "03d94ae3-4055-4534-ec6c-9cfb5e5ea2a0"
      },
      "source": [
        "#https://pandas.pydata.org/pandas-docs/stable/user_guide/style.html\n",
        "\n",
        "cm = sns.light_palette(\"green\", as_cmap=True)\n",
        "s = df.style.background_gradient(cmap=cm)\n",
        "s"
      ],
      "execution_count": null,
      "outputs": [
        {
          "output_type": "execute_result",
          "data": {
            "text/html": [
              "<style  type=\"text/css\" >\n",
              "#T_d69b2e08_800d_11eb_931b_0242ac1c0002row0_col1{\n",
              "            background-color:  #43a143;\n",
              "            color:  #000000;\n",
              "        }#T_d69b2e08_800d_11eb_931b_0242ac1c0002row1_col1{\n",
              "            background-color:  #bfdebf;\n",
              "            color:  #000000;\n",
              "        }#T_d69b2e08_800d_11eb_931b_0242ac1c0002row2_col1{\n",
              "            background-color:  #cde5cd;\n",
              "            color:  #000000;\n",
              "        }#T_d69b2e08_800d_11eb_931b_0242ac1c0002row3_col1{\n",
              "            background-color:  #bcdcbc;\n",
              "            color:  #000000;\n",
              "        }#T_d69b2e08_800d_11eb_931b_0242ac1c0002row4_col1{\n",
              "            background-color:  #008000;\n",
              "            color:  #f1f1f1;\n",
              "        }#T_d69b2e08_800d_11eb_931b_0242ac1c0002row5_col1{\n",
              "            background-color:  #1c8e1c;\n",
              "            color:  #000000;\n",
              "        }#T_d69b2e08_800d_11eb_931b_0242ac1c0002row6_col1{\n",
              "            background-color:  #339933;\n",
              "            color:  #000000;\n",
              "        }#T_d69b2e08_800d_11eb_931b_0242ac1c0002row7_col1{\n",
              "            background-color:  #068306;\n",
              "            color:  #f1f1f1;\n",
              "        }#T_d69b2e08_800d_11eb_931b_0242ac1c0002row8_col1{\n",
              "            background-color:  #178b17;\n",
              "            color:  #000000;\n",
              "        }#T_d69b2e08_800d_11eb_931b_0242ac1c0002row9_col1{\n",
              "            background-color:  #78bb78;\n",
              "            color:  #000000;\n",
              "        }#T_d69b2e08_800d_11eb_931b_0242ac1c0002row10_col1{\n",
              "            background-color:  #098509;\n",
              "            color:  #f1f1f1;\n",
              "        }#T_d69b2e08_800d_11eb_931b_0242ac1c0002row11_col1{\n",
              "            background-color:  #e7f1e7;\n",
              "            color:  #000000;\n",
              "        }#T_d69b2e08_800d_11eb_931b_0242ac1c0002row12_col1{\n",
              "            background-color:  #ebf3eb;\n",
              "            color:  #000000;\n",
              "        }#T_d69b2e08_800d_11eb_931b_0242ac1c0002row13_col1{\n",
              "            background-color:  #aad3aa;\n",
              "            color:  #000000;\n",
              "        }</style><table id=\"T_d69b2e08_800d_11eb_931b_0242ac1c0002\" ><thead>    <tr>        <th class=\"blank level0\" ></th>        <th class=\"col_heading level0 col0\" >name</th>        <th class=\"col_heading level0 col1\" >score</th>    </tr></thead><tbody>\n",
              "                <tr>\n",
              "                        <th id=\"T_d69b2e08_800d_11eb_931b_0242ac1c0002level0_row0\" class=\"row_heading level0 row0\" >0</th>\n",
              "                        <td id=\"T_d69b2e08_800d_11eb_931b_0242ac1c0002row0_col0\" class=\"data row0 col0\" >Nearest_Neighbors</td>\n",
              "                        <td id=\"T_d69b2e08_800d_11eb_931b_0242ac1c0002row0_col1\" class=\"data row0 col1\" >0.712963</td>\n",
              "            </tr>\n",
              "            <tr>\n",
              "                        <th id=\"T_d69b2e08_800d_11eb_931b_0242ac1c0002level0_row1\" class=\"row_heading level0 row1\" >1</th>\n",
              "                        <td id=\"T_d69b2e08_800d_11eb_931b_0242ac1c0002row1_col0\" class=\"data row1 col0\" >Linear_SVM</td>\n",
              "                        <td id=\"T_d69b2e08_800d_11eb_931b_0242ac1c0002row1_col1\" class=\"data row1 col1\" >0.567130</td>\n",
              "            </tr>\n",
              "            <tr>\n",
              "                        <th id=\"T_d69b2e08_800d_11eb_931b_0242ac1c0002level0_row2\" class=\"row_heading level0 row2\" >2</th>\n",
              "                        <td id=\"T_d69b2e08_800d_11eb_931b_0242ac1c0002row2_col0\" class=\"data row2 col0\" >Polynomial_SVM</td>\n",
              "                        <td id=\"T_d69b2e08_800d_11eb_931b_0242ac1c0002row2_col1\" class=\"data row2 col1\" >0.550926</td>\n",
              "            </tr>\n",
              "            <tr>\n",
              "                        <th id=\"T_d69b2e08_800d_11eb_931b_0242ac1c0002level0_row3\" class=\"row_heading level0 row3\" >3</th>\n",
              "                        <td id=\"T_d69b2e08_800d_11eb_931b_0242ac1c0002row3_col0\" class=\"data row3 col0\" >RBF_SVM</td>\n",
              "                        <td id=\"T_d69b2e08_800d_11eb_931b_0242ac1c0002row3_col1\" class=\"data row3 col1\" >0.571759</td>\n",
              "            </tr>\n",
              "            <tr>\n",
              "                        <th id=\"T_d69b2e08_800d_11eb_931b_0242ac1c0002level0_row4\" class=\"row_heading level0 row4\" >4</th>\n",
              "                        <td id=\"T_d69b2e08_800d_11eb_931b_0242ac1c0002row4_col0\" class=\"data row4 col0\" >Gaussian_Process</td>\n",
              "                        <td id=\"T_d69b2e08_800d_11eb_931b_0242ac1c0002row4_col1\" class=\"data row4 col1\" >0.791667</td>\n",
              "            </tr>\n",
              "            <tr>\n",
              "                        <th id=\"T_d69b2e08_800d_11eb_931b_0242ac1c0002level0_row5\" class=\"row_heading level0 row5\" >5</th>\n",
              "                        <td id=\"T_d69b2e08_800d_11eb_931b_0242ac1c0002row5_col0\" class=\"data row5 col0\" >Gradient_Boosting</td>\n",
              "                        <td id=\"T_d69b2e08_800d_11eb_931b_0242ac1c0002row5_col1\" class=\"data row5 col1\" >0.759259</td>\n",
              "            </tr>\n",
              "            <tr>\n",
              "                        <th id=\"T_d69b2e08_800d_11eb_931b_0242ac1c0002level0_row6\" class=\"row_heading level0 row6\" >6</th>\n",
              "                        <td id=\"T_d69b2e08_800d_11eb_931b_0242ac1c0002row6_col0\" class=\"data row6 col0\" >Decision_Tree</td>\n",
              "                        <td id=\"T_d69b2e08_800d_11eb_931b_0242ac1c0002row6_col1\" class=\"data row6 col1\" >0.731481</td>\n",
              "            </tr>\n",
              "            <tr>\n",
              "                        <th id=\"T_d69b2e08_800d_11eb_931b_0242ac1c0002level0_row7\" class=\"row_heading level0 row7\" >7</th>\n",
              "                        <td id=\"T_d69b2e08_800d_11eb_931b_0242ac1c0002row7_col0\" class=\"data row7 col0\" >Extra_Trees</td>\n",
              "                        <td id=\"T_d69b2e08_800d_11eb_931b_0242ac1c0002row7_col1\" class=\"data row7 col1\" >0.784722</td>\n",
              "            </tr>\n",
              "            <tr>\n",
              "                        <th id=\"T_d69b2e08_800d_11eb_931b_0242ac1c0002level0_row8\" class=\"row_heading level0 row8\" >8</th>\n",
              "                        <td id=\"T_d69b2e08_800d_11eb_931b_0242ac1c0002row8_col0\" class=\"data row8 col0\" >Random_Forest</td>\n",
              "                        <td id=\"T_d69b2e08_800d_11eb_931b_0242ac1c0002row8_col1\" class=\"data row8 col1\" >0.763889</td>\n",
              "            </tr>\n",
              "            <tr>\n",
              "                        <th id=\"T_d69b2e08_800d_11eb_931b_0242ac1c0002level0_row9\" class=\"row_heading level0 row9\" >9</th>\n",
              "                        <td id=\"T_d69b2e08_800d_11eb_931b_0242ac1c0002row9_col0\" class=\"data row9 col0\" >Neural_Net</td>\n",
              "                        <td id=\"T_d69b2e08_800d_11eb_931b_0242ac1c0002row9_col1\" class=\"data row9 col1\" >0.650463</td>\n",
              "            </tr>\n",
              "            <tr>\n",
              "                        <th id=\"T_d69b2e08_800d_11eb_931b_0242ac1c0002level0_row10\" class=\"row_heading level0 row10\" >10</th>\n",
              "                        <td id=\"T_d69b2e08_800d_11eb_931b_0242ac1c0002row10_col0\" class=\"data row10 col0\" >AdaBoost</td>\n",
              "                        <td id=\"T_d69b2e08_800d_11eb_931b_0242ac1c0002row10_col1\" class=\"data row10 col1\" >0.780093</td>\n",
              "            </tr>\n",
              "            <tr>\n",
              "                        <th id=\"T_d69b2e08_800d_11eb_931b_0242ac1c0002level0_row11\" class=\"row_heading level0 row11\" >11</th>\n",
              "                        <td id=\"T_d69b2e08_800d_11eb_931b_0242ac1c0002row11_col0\" class=\"data row11 col0\" >Naive_Bayes</td>\n",
              "                        <td id=\"T_d69b2e08_800d_11eb_931b_0242ac1c0002row11_col1\" class=\"data row11 col1\" >0.520833</td>\n",
              "            </tr>\n",
              "            <tr>\n",
              "                        <th id=\"T_d69b2e08_800d_11eb_931b_0242ac1c0002level0_row12\" class=\"row_heading level0 row12\" >12</th>\n",
              "                        <td id=\"T_d69b2e08_800d_11eb_931b_0242ac1c0002row12_col0\" class=\"data row12 col0\" >QDA</td>\n",
              "                        <td id=\"T_d69b2e08_800d_11eb_931b_0242ac1c0002row12_col1\" class=\"data row12 col1\" >0.516204</td>\n",
              "            </tr>\n",
              "            <tr>\n",
              "                        <th id=\"T_d69b2e08_800d_11eb_931b_0242ac1c0002level0_row13\" class=\"row_heading level0 row13\" >13</th>\n",
              "                        <td id=\"T_d69b2e08_800d_11eb_931b_0242ac1c0002row13_col0\" class=\"data row13 col0\" >SGD</td>\n",
              "                        <td id=\"T_d69b2e08_800d_11eb_931b_0242ac1c0002row13_col1\" class=\"data row13 col1\" >0.592593</td>\n",
              "            </tr>\n",
              "    </tbody></table>"
            ],
            "text/plain": [
              "<pandas.io.formats.style.Styler at 0x7f57324ed610>"
            ]
          },
          "metadata": {
            "tags": []
          },
          "execution_count": 27
        }
      ]
    },
    {
      "cell_type": "markdown",
      "metadata": {
        "id": "7AVMDXysxZtm"
      },
      "source": [
        "### 4.4. Bar plot of model performance"
      ]
    },
    {
      "cell_type": "code",
      "metadata": {
        "scrolled": true,
        "id": "RjeQ9abexZtn",
        "colab": {
          "base_uri": "https://localhost:8080/",
          "height": 285
        },
        "outputId": "4bf92433-6502-4602-85e1-0911dfe0c694"
      },
      "source": [
        "sns.set(style=\"whitegrid\")\n",
        "ax = sns.barplot(y=\"name\", x=\"score\", data=df)"
      ],
      "execution_count": null,
      "outputs": [
        {
          "output_type": "display_data",
          "data": {
            "image/png": "[encoded data removed]",
            "text/plain": [
              "<Figure size 432x288 with 1 Axes>"
            ]
          },
          "metadata": {
            "tags": []
          }
        }
      ]
    },
    {
      "cell_type": "markdown",
      "metadata": {
        "id": "5vLufoXhxZtp"
      },
      "source": [
        "---"
      ]
    }
  ]
}